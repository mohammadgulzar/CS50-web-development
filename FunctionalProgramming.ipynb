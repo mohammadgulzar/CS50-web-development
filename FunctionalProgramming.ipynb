{
 "cells": [
  {
   "attachments": {},
   "cell_type": "markdown",
   "metadata": {},
   "source": [
    "Decorators"
   ]
  },
  {
   "cell_type": "code",
   "execution_count": 3,
   "metadata": {},
   "outputs": [],
   "source": [
    "def announce(f):\n",
    "    def wrapper():\n",
    "        print(\"About to run the funciton...\")\n",
    "        f()\n",
    "        print(\"Done with the Function.\")\n",
    "    return wrapper\n",
    "\n",
    "@announce #for example, decorator can be used to verify whether the user is logged in to the application\n",
    "# prohibit the user from performing the action when they are not logged in.\n",
    "def hello():\n",
    "    print(\"Hello, world!\")\n",
    "\n"
   ]
  },
  {
   "cell_type": "code",
   "execution_count": 4,
   "metadata": {},
   "outputs": [
    {
     "name": "stdout",
     "output_type": "stream",
     "text": [
      "About to run the funciton...\n",
      "Hello, world!\n",
      "Done with the Function.\n"
     ]
    }
   ],
   "source": [
    "hello()"
   ]
  },
  {
   "attachments": {},
   "cell_type": "markdown",
   "metadata": {},
   "source": [
    "Lambda Expressions\n"
   ]
  },
  {
   "cell_type": "code",
   "execution_count": 8,
   "metadata": {},
   "outputs": [],
   "source": [
    "people = [\n",
    "    dict(name = \"Harry\",house = \"Gryffindor\"),\n",
    "    dict(name = \"Cho\",house = \"Ravenclaw\"),\n",
    "    dict(name = \"Draco\",house = \"Slytherin\")\n",
    "]"
   ]
  },
  {
   "cell_type": "code",
   "execution_count": 9,
   "metadata": {},
   "outputs": [
    {
     "data": {
      "text/plain": [
       "[{'name': 'Harry', 'house': 'Gryffindor'},\n",
       " {'name': 'Cho', 'house': 'Ravenclaw'},\n",
       " {'name': 'Draco', 'house': 'Slytherin'}]"
      ]
     },
     "execution_count": 9,
     "metadata": {},
     "output_type": "execute_result"
    }
   ],
   "source": [
    "people"
   ]
  },
  {
   "cell_type": "code",
   "execution_count": 14,
   "metadata": {},
   "outputs": [],
   "source": [
    "\n",
    "people.sort(key= lambda person: person[\"name\"])"
   ]
  },
  {
   "cell_type": "code",
   "execution_count": 15,
   "metadata": {},
   "outputs": [
    {
     "data": {
      "text/plain": [
       "[{'name': 'Cho', 'house': 'Ravenclaw'},\n",
       " {'name': 'Draco', 'house': 'Slytherin'},\n",
       " {'name': 'Harry', 'house': 'Gryffindor'}]"
      ]
     },
     "execution_count": 15,
     "metadata": {},
     "output_type": "execute_result"
    }
   ],
   "source": [
    "people"
   ]
  },
  {
   "cell_type": "code",
   "execution_count": 21,
   "metadata": {},
   "outputs": [
    {
     "name": "stdout",
     "output_type": "stream",
     "text": [
      "You cannot divde by 0\n"
     ]
    }
   ],
   "source": [
    "try:\n",
    "    x,y = 5,0\n",
    "    print(x//y)\n",
    "except ZeroDivisionError:\n",
    "    print(\"You cannot divde by 0\")"
   ]
  },
  {
   "cell_type": "code",
   "execution_count": null,
   "metadata": {},
   "outputs": [],
   "source": []
  }
 ],
 "metadata": {
  "kernelspec": {
   "display_name": "Python 3",
   "language": "python",
   "name": "python3"
  },
  "language_info": {
   "codemirror_mode": {
    "name": "ipython",
    "version": 3
   },
   "file_extension": ".py",
   "mimetype": "text/x-python",
   "name": "python",
   "nbconvert_exporter": "python",
   "pygments_lexer": "ipython3",
   "version": "3.10.2"
  },
  "orig_nbformat": 4,
  "vscode": {
   "interpreter": {
    "hash": "aee8b7b246df8f9039afb4144a1f6fd8d2ca17a180786b69acc140d282b71a49"
   }
  }
 },
 "nbformat": 4,
 "nbformat_minor": 2
}
